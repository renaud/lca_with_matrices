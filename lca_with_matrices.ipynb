{
 "cells": [
  {
   "cell_type": "markdown",
   "id": "97ee2596-5bf8-4e99-b8ee-c7cdee43a9c6",
   "metadata": {},
   "source": [
    "# LCA caluculation: a simple example\n",
    "\n",
    "[source](https://link.springer.com/book/10.1007/978-94-015-9900-9) of this example\n",
    "\n",
    "For instance, consider a unit process (or process in short), say, **production of electricity**, which: \n",
    "* uses 2 litre of fuel\n",
    "* produces 10 kWh of electricity\n",
    "* emits 1 kg of carbon dioxide \n",
    "* emits 0.1 kg of sulphur\n",
    "\n",
    "Then a second unit process, say **production of fuel** that\n",
    "* produces 100 litre of fuel\n",
    "* emits 10 kg of carbon dioxide\n",
    "* emits 2 kg of sulphur dioxide\n",
    "* requires 50 litre of crude oil\n",
    "\n",
    "The process matrix can be represented as \n",
    "\n",
    "![](process_matrix.png)\n",
    "\n",
    "\n",
    "**Matrix A** is the **technology matrix**; it represents the flows within the economic systems. \n",
    "\n",
    "**Matrix B** is the **intervention matrix**; it represents the environmental interventions of unit processes. \n",
    "\n",
    "Let's represent A and B with Numpy:"
   ]
  },
  {
   "cell_type": "code",
   "execution_count": 2,
   "id": "b1a0c260-3d91-452f-b4fd-4130adf381d8",
   "metadata": {},
   "outputs": [
    {
     "data": {
      "text/plain": [
       "(array([[ -2, 100],\n",
       "        [ 10,   0]]),\n",
       " array([[  1. ,  10. ],\n",
       "        [  0.1,   2. ],\n",
       "        [  0. , -50. ]]))"
      ]
     },
     "execution_count": 2,
     "metadata": {},
     "output_type": "execute_result"
    }
   ],
   "source": [
    "import numpy as np\n",
    "\n",
    "A = np.array([[-2, 100],[10, 0]])\n",
    "B = np.array([[1, 10],[0.1, 2],[0, -50]])\n",
    "A, B"
   ]
  },
  {
   "cell_type": "markdown",
   "id": "74164d39-de14-4cd7-b603-c819789b286d",
   "metadata": {},
   "source": [
    "Next, let's define a **functional unit**, in this example the production of 1000 kWh of electricity"
   ]
  },
  {
   "cell_type": "code",
   "execution_count": 3,
   "id": "777df46a-cb72-49de-be1b-4957508349ab",
   "metadata": {},
   "outputs": [],
   "source": [
    "f = np.array([0, 1000]) # reference flow"
   ]
  },
  {
   "cell_type": "markdown",
   "id": "007ebcea-c277-489c-a8ff-cc8a61ae4a48",
   "metadata": {},
   "source": [
    "We now introduce the **scaling vector s**, which tells us how much of process 1 and 2 we need to produce our functional unit\n",
    "\n",
    "![](equations.png)\n",
    "\n",
    "We can solve this linear system using\n",
    "\n",
    "![](inverse.png)\n",
    "\n",
    "In Numpy, that gives"
   ]
  },
  {
   "cell_type": "code",
   "execution_count": 4,
   "id": "1514166b-95fc-40bf-b8ad-b2981fc33d8a",
   "metadata": {},
   "outputs": [
    {
     "data": {
      "text/plain": [
       "array([100.,   2.])"
      ]
     },
     "execution_count": 4,
     "metadata": {},
     "output_type": "execute_result"
    }
   ],
   "source": [
    "s = np.matmul(np.linalg.inv(A), f)\n",
    "s"
   ]
  },
  {
   "cell_type": "markdown",
   "id": "dfaef682-3b0b-41eb-8c73-36d00984c850",
   "metadata": {},
   "source": [
    "In our solution, we will need:\n",
    "\n",
    "* 100 units of process 1 (production of electricity) and \n",
    "* 2 units of process 2 (production of fuel) \n",
    "\n",
    "to produce 1 functional unit\n",
    "\n",
    "# Environmental flows\n",
    "\n",
    "We can now use **s** to compute the environmental flows, using **g=Bs**"
   ]
  },
  {
   "cell_type": "code",
   "execution_count": 16,
   "id": "9cb0bac4-6ad4-4909-b328-1d7a3f5175bf",
   "metadata": {},
   "outputs": [
    {
     "data": {
      "text/plain": [
       "array([ 120.,   14., -100.])"
      ]
     },
     "execution_count": 16,
     "metadata": {},
     "output_type": "execute_result"
    }
   ],
   "source": [
    "g = np.matmul(B, s)\n",
    "g"
   ]
  },
  {
   "cell_type": "markdown",
   "id": "11f5969c-132d-4c2d-9a87-b82ec7a4b605",
   "metadata": {},
   "source": [
    "Thus the environmental flows will be:\n",
    "* 120 kg of carbon dioxide emitted\n",
    "* 14 kg of sulphur dioxide emitted\n",
    "* 100 litre of crude oil consumed\n",
    "\n",
    "\n"
   ]
  },
  {
   "cell_type": "code",
   "execution_count": null,
   "id": "41a867dd-f739-4d98-89c4-0be003243389",
   "metadata": {},
   "outputs": [],
   "source": []
  }
 ],
 "metadata": {
  "kernelspec": {
   "display_name": "Python 3 (ipykernel)",
   "language": "python",
   "name": "python3"
  },
  "language_info": {
   "codemirror_mode": {
    "name": "ipython",
    "version": 3
   },
   "file_extension": ".py",
   "mimetype": "text/x-python",
   "name": "python",
   "nbconvert_exporter": "python",
   "pygments_lexer": "ipython3",
   "version": "3.9.12"
  }
 },
 "nbformat": 4,
 "nbformat_minor": 5
}
